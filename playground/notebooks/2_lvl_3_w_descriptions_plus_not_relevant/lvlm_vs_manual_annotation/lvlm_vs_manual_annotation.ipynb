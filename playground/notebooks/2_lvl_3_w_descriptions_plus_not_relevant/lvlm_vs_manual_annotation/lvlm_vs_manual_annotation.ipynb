{
 "cells": [
  {
   "cell_type": "code",
   "execution_count": 5,
   "metadata": {},
   "outputs": [],
   "source": [
    "from pathlib import Path\n",
    "import pandas as pd\n"
   ]
  },
  {
   "cell_type": "code",
   "execution_count": 6,
   "metadata": {},
   "outputs": [
    {
     "name": "stdout",
     "output_type": "stream",
     "text": [
      "                                       img           category_llava                               manual_category\n",
      "0  aiguestortes_NA_1366_47701956991__b.jpg                LANDFORMS                                     LANDFORMS\n",
      "1  aiguestortes_NA_1633_31399087577__b.jpg  VEGETATION AND HABITATS                       VEGETATION AND HABITATS\n",
      "2  aiguestortes_NA_1633_50177463812__b.jpg   TERRESTRIAL ACTIVITIES                        TERRESTRIAL ACTIVITIES\n",
      "3  aiguestortes_NA_1690_52491627395__b.jpg             NOT RELEVANT                             TRACKS AND TRAILS\n",
      "4  aiguestortes_NA_2008_19242320949__b.jpg  VEGETATION AND HABITATS                                        PLANTS\n",
      "5  aiguestortes_NA_4531_49900773177__b.jpg                  ANIMALS                                       ANIMALS\n",
      "6  aiguestortes_NA_4792_24046167316__b.jpg                  ANIMALS                                  NOT RELEVANT\n",
      "7    guadarrama_NA_1089_20943542884__b.jpg             NOT RELEVANT                            TOWNS AND VILLAGES\n",
      "8    guadarrama_NA_1089_21378498778__b.jpg     HERITAGE AND CULTURE  SPIRITUAL, SYMBOLIC AND RELATED CONNOTATIONS\n",
      "9    guadarrama_NA_1273_52582432385__b.jpg             NOT RELEVANT                                  NOT RELEVANT\n"
     ]
    }
   ],
   "source": [
    "# Categorías a analizar\n",
    "categories = pd.read_csv(\"../../data/categories/categories_lvl_3.csv\", sep=\";\", header=None)\n",
    "categories_list = categories.iloc[:, 0].astype(str).str.upper().tolist()\n",
    "\n",
    "# Cogemos inferencia de llava\n",
    "llava_classification = pd.read_csv(\"../../data/inference/lvl_3_w_descriptions_plus_not_relevant.csv\", sep=\";\", header=0)\n",
    "llava_classification[\"img\"] = llava_classification[\"img\"].apply(lambda x: x.split(\"/\")[-1])\n",
    "llava_classification = llava_classification[[\"img\",\"category_llava\"]]\n",
    "llava_classification['category_llava'] = llava_classification['category_llava'].apply(lambda x: x.upper())\n",
    "# Las categorías que no están en la lista de categorías, han sido malas inferencias. \n",
    "\n",
    "# 1. Hay varias categorías que se pueden afinar. Por ejemplo, el modelo ha puesto SPIRITUAL, y no la frase completa\n",
    "# de Spiritual, symbolic and related connotations\n",
    "llava_classification[\"category_llava\"] = llava_classification[\"category_llava\"].replace(\"SPIRITUAL\",\"SPIRITUAL, SYMBOLIC AND RELATED CONNOTATIONS\") \n",
    "llava_classification[\"category_llava\"] = llava_classification[\"category_llava\"].replace(\"SYMBOLIC AND RELATED CONNOTATIONS\",\"SPIRITUAL, SYMBOLIC AND RELATED CONNOTATIONS\") \n",
    "\n",
    "llava_classification[\"category_llava\"] = llava_classification[\"category_llava\"].apply(\n",
    "                    lambda cat: cat if cat in categories_list or cat == \"NOT VALID\" or cat == \"NOT RELEVANT\" else \"BAD_INFERENCE\"\n",
    "                    )\n",
    "\n",
    "# Mergeamos con el resultado de etiquetado manual\n",
    "manual_classification = pd.read_csv(\"../../data/inference/lvl_3_manual_annotation.csv\", sep=\";\", header=0)\n",
    "manual_classification['manual_category'] = manual_classification['manual_category'].apply(lambda x: x.upper())\n",
    "# Unimos ambos por imagen\n",
    "result = llava_classification.merge(manual_classification[[\"img\",\"manual_category\"]],on=\"img\",how=\"left\")\n",
    "\n",
    "\n",
    "\n",
    "print(result.head(10).to_string())\n",
    "result.to_csv(\"lvlm_vs_manual.csv\",sep=\";\")\n",
    "\n"
   ]
  },
  {
   "cell_type": "code",
   "execution_count": 7,
   "metadata": {},
   "outputs": [
    {
     "name": "stdout",
     "output_type": "stream",
     "text": [
      "Empty DataFrame\n",
      "Columns: [img, category_llava, manual_category]\n",
      "Index: []\n"
     ]
    }
   ],
   "source": [
    "nan_rows = result[result.isna().any(axis=1)]\n",
    "print(nan_rows)"
   ]
  },
  {
   "cell_type": "code",
   "execution_count": 9,
   "metadata": {},
   "outputs": [
    {
     "name": "stdout",
     "output_type": "stream",
     "text": [
      "                                              precision    recall  f1-score  support\n",
      "ACCOMMODATION                                  0.616822  0.488889  0.545455    135.0\n",
      "AIR ACTIVITIES                                 0.560000  0.560000  0.560000     25.0\n",
      "ANIMALS                                        0.934211  0.432049  0.590846    493.0\n",
      "BRIDGE                                         0.625984  0.750000  0.682403    212.0\n",
      "CITIES                                         1.000000  0.010417  0.020619     96.0\n",
      "COMMERCE FACILITIES                            0.547619  0.079038  0.138138    291.0\n",
      "DAM                                            1.000000  0.067797  0.126984     59.0\n",
      "FUNGUS                                         0.789474  0.600000  0.681818     25.0\n",
      "GARDENS                                        0.000000  0.000000  0.000000      0.0\n",
      "HERITAGE AND CULTURE                           0.202441  0.696296  0.313682    405.0\n",
      "KNOWLEDGE                                      0.000000  0.000000  0.000000    163.0\n",
      "LANDFORMS                                      0.511265  0.694935  0.589116    849.0\n",
      "LIGHTHOUSE                                     1.000000  0.230769  0.375000     13.0\n",
      "NOT RELEVANT                                   0.338361  0.539749  0.415961    956.0\n",
      "OTHER ABIOTIC FEATURES                         0.646789  0.376000  0.475548    375.0\n",
      "PLANTS                                         0.857143  0.086066  0.156425    488.0\n",
      "ROADS                                          0.461039  0.835294  0.594142    255.0\n",
      "SHELTER                                        0.166667  0.117647  0.137931     17.0\n",
      "SPIRITUAL, SYMBOLIC AND RELATED CONNOTATIONS   0.619048  0.034121  0.064677    381.0\n",
      "TERRESTRIAL ACTIVITIES                         0.800000  0.151111  0.254206    450.0\n",
      "TOWNS AND VILLAGES                             0.723301  0.252971  0.374843    589.0\n",
      "TRACKS AND TRAILS                              0.174603  0.118280  0.141026     93.0\n",
      "VEGETATION AND HABITATS                        0.176403  0.601562  0.272808    256.0\n",
      "VEHICLE                                        0.900709  0.439446  0.590698    289.0\n",
      "WATER ACTIVITIES                               0.543210  0.687500  0.606897     64.0\n",
      "WIND FARM                                      0.307692  0.800000  0.444444      5.0\n",
      "WINTER ACTIVITIES                              0.898305  0.602273  0.721088     88.0\n"
     ]
    }
   ],
   "source": [
    "from sklearn.metrics import classification_report\n",
    "\n",
    "# Generar el reporte de clasificación\n",
    "report = classification_report(\n",
    "    result['manual_category'], \n",
    "    result['category_llava'], \n",
    "    output_dict=True, \n",
    "    zero_division=0\n",
    ")\n",
    "\n",
    "# Convertir a DataFrame y transponer para que las categorías sean el índice\n",
    "df_report = pd.DataFrame(report).T\n",
    "\n",
    "# # Mostrar el DataFrame con categorías a la izquierda y métricas como columnas\n",
    "# df_report = df_report.drop(columns=[\"support\"], errors=\"ignore\")\n",
    "df_report = df_report.drop(index=[\"accuracy\",\"macro avg\",\"weighted avg\",\"nan\"], errors=\"ignore\")\n",
    "# df_report = df_report.dropna(axis=0, how=\"all\")\n",
    "print(df_report.to_string())\n",
    "df_report = df_report.round(3)\n",
    "df_report.to_csv(\"lvlm_vs_manual_report.csv\", sep=\";\")\n"
   ]
  }
 ],
 "metadata": {
  "kernelspec": {
   "display_name": "ces_310",
   "language": "python",
   "name": "python3"
  },
  "language_info": {
   "codemirror_mode": {
    "name": "ipython",
    "version": 3
   },
   "file_extension": ".py",
   "mimetype": "text/x-python",
   "name": "python",
   "nbconvert_exporter": "python",
   "pygments_lexer": "ipython3",
   "version": "3.10.16"
  }
 },
 "nbformat": 4,
 "nbformat_minor": 2
}
