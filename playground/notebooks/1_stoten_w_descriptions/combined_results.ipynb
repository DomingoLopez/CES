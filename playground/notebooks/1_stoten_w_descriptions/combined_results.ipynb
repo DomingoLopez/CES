{
 "cells": [
  {
   "cell_type": "code",
   "execution_count": 1,
   "metadata": {},
   "outputs": [],
   "source": [
    "from datetime import datetime\n",
    "import hdbscan\n",
    "from pathlib import Path\n",
    "from typing import Optional\n",
    "import pandas as pd\n",
    "from loguru import logger\n",
    "from sklearn.datasets import make_blobs"
   ]
  },
  {
   "cell_type": "code",
   "execution_count": 6,
   "metadata": {},
   "outputs": [],
   "source": [
    "# Combinamos ambas soluciones, de precision\n",
    "\n",
    "import os\n",
    "\n",
    "\n",
    "metrics = [\"precision\",\"recall\",\"f1-score\"]\n",
    "# Leo comparativa lvlm vs manual\n",
    "df_lvlm_vs_manual = pd.read_csv(\"lvlm_vs_manual_annotation/lvlm_vs_manual_report.csv\",header=0, sep=\";\",index_col=0)\n",
    "\n",
    "for i in metrics:\n",
    "    df_lvlm_vs_manual_n = df_lvlm_vs_manual[[i]]\n",
    "    df_clust_lvlm_vs_manual = pd.read_csv(f\"clust-lvlm_vs_manual_annotation/clust-lvlm_vs_manual_{i}_report.csv\",header=0, sep=\";\",index_col=0)\n",
    "\n",
    "    df_result = df_lvlm_vs_manual_n.join(df_clust_lvlm_vs_manual, how=\"left\")\n",
    "\n",
    "    avg_row = df_result.apply(lambda col: col[col != 0].mean(),axis=0)\n",
    "    df_result.loc['avg'] = avg_row\n",
    "    \n",
    "    df_result.to_csv(f\"combined_{i}.csv\", sep=\";\", decimal=\",\")\n"
   ]
  }
 ],
 "metadata": {
  "kernelspec": {
   "display_name": "ces_310",
   "language": "python",
   "name": "python3"
  },
  "language_info": {
   "codemirror_mode": {
    "name": "ipython",
    "version": 3
   },
   "file_extension": ".py",
   "mimetype": "text/x-python",
   "name": "python",
   "nbconvert_exporter": "python",
   "pygments_lexer": "ipython3",
   "version": "3.10.16"
  }
 },
 "nbformat": 4,
 "nbformat_minor": 2
}
