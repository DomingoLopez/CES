{
 "cells": [
  {
   "cell_type": "code",
   "execution_count": 1,
   "metadata": {},
   "outputs": [],
   "source": [
    "from datetime import datetime\n",
    "import hdbscan\n",
    "from pathlib import Path\n",
    "from typing import Optional\n",
    "import pandas as pd\n",
    "from loguru import logger\n",
    "from sklearn.datasets import make_blobs"
   ]
  },
  {
   "cell_type": "code",
   "execution_count": 17,
   "metadata": {},
   "outputs": [],
   "source": [
    "# Combinamos ambas soluciones, de precision\n",
    "\n",
    "import os\n",
    "\n",
    "\n",
    "metrics = [\"precision\",\"recall\",\"f1-score\"]\n",
    "# Leo comparativa lvlm vs manual\n",
    "df_lvlm_vs_manual = pd.read_csv(\"results_report/lvlm_vs_manual.csv\",header=0, sep=\";\",index_col=0)\n",
    "\n",
    "os.makedirs(\"results_report_combined\",exist_ok=True)\n",
    "\n",
    "for i in metrics:\n",
    "    df_lvlm_vs_manual_n = df_lvlm_vs_manual[[i]]\n",
    "    df_clust_lvlm_vs_manual = pd.read_csv(f\"results_report/clust-lvlm_vs_manual_{i}.csv\",header=0, sep=\";\",index_col=0)\n",
    "    df_result = df_lvlm_vs_manual_n.join(df_clust_lvlm_vs_manual, how=\"left\")\n",
    "    df_result.to_csv(f\"results_report_combined/{i}.csv\", sep=\";\")\n"
   ]
  }
 ],
 "metadata": {
  "kernelspec": {
   "display_name": "ces_310",
   "language": "python",
   "name": "python3"
  },
  "language_info": {
   "codemirror_mode": {
    "name": "ipython",
    "version": 3
   },
   "file_extension": ".py",
   "mimetype": "text/x-python",
   "name": "python",
   "nbconvert_exporter": "python",
   "pygments_lexer": "ipython3",
   "version": "3.10.16"
  }
 },
 "nbformat": 4,
 "nbformat_minor": 2
}
