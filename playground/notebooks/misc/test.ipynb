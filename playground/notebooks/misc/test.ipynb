{
 "cells": [
  {
   "cell_type": "code",
   "execution_count": null,
   "metadata": {},
   "outputs": [
    {
     "ename": "ImportError",
     "evalue": "attempted relative import with no known parent package",
     "output_type": "error",
     "traceback": [
      "\u001b[0;31m---------------------------------------------------------------------------\u001b[0m",
      "\u001b[0;31mImportError\u001b[0m                               Traceback (most recent call last)",
      "Cell \u001b[0;32mIn[4], line 4\u001b[0m\n\u001b[1;32m      1\u001b[0m \u001b[38;5;66;03m# ###################################################################\u001b[39;00m\n\u001b[1;32m      2\u001b[0m \u001b[38;5;66;03m# Path de test\u001b[39;00m\n\u001b[1;32m      3\u001b[0m \u001b[38;5;28;01mimport\u001b[39;00m\u001b[38;5;250m \u001b[39m\u001b[38;5;21;01mjson\u001b[39;00m\n\u001b[0;32m----> 4\u001b[0m \u001b[38;5;28;01mfrom\u001b[39;00m\u001b[38;5;250m \u001b[39m\u001b[38;5;21;01m.\u001b[39;00m\u001b[38;5;21;01m.\u001b[39;00m\u001b[38;5;21;01m.\u001b[39;00m\u001b[38;5;21;01m.\u001b[39;00m\u001b[38;5;21;01msrc\u001b[39;00m\u001b[38;5;21;01m.\u001b[39;00m\u001b[38;5;21;01mutils\u001b[39;00m\u001b[38;5;21;01m.\u001b[39;00m\u001b[38;5;21;01mimage_loader\u001b[39;00m\u001b[38;5;250m \u001b[39m\u001b[38;5;28;01mimport\u001b[39;00m ImageLoader\n\u001b[1;32m      5\u001b[0m \u001b[38;5;28;01mfrom\u001b[39;00m\u001b[38;5;250m \u001b[39m\u001b[38;5;21;01m.\u001b[39;00m\u001b[38;5;21;01m.\u001b[39;00m\u001b[38;5;21;01m.\u001b[39;00m\u001b[38;5;21;01m.\u001b[39;00m\u001b[38;5;21;01msrc\u001b[39;00m\u001b[38;5;21;01m.\u001b[39;00m\u001b[38;5;21;01mexperiment\u001b[39;00m\u001b[38;5;21;01m.\u001b[39;00m\u001b[38;5;21;01mexperiment_result_controller\u001b[39;00m\u001b[38;5;250m \u001b[39m\u001b[38;5;28;01mimport\u001b[39;00m ExperimentResultController\n\u001b[1;32m      7\u001b[0m \u001b[38;5;28;01mdef\u001b[39;00m\u001b[38;5;250m \u001b[39m\u001b[38;5;21mload_images\u001b[39m(path) \u001b[38;5;241m-\u001b[39m\u001b[38;5;241m>\u001b[39m \u001b[38;5;28mlist\u001b[39m:\n\u001b[1;32m      8\u001b[0m     \u001b[38;5;66;03m# Finding images\u001b[39;00m\n\u001b[1;32m      9\u001b[0m     \u001b[38;5;66;03m# image_loader = ImageLoader(folder=\"./data/Small_Data\")\u001b[39;00m\n",
      "\u001b[0;31mImportError\u001b[0m: attempted relative import with no known parent package"
     ]
    }
   ],
   "source": [
    "# ###################################################################\n",
    "# Path de test\n",
    "import json\n",
    "from src.utils.image_loader import ImageLoader\n",
    "from src.experiment.experiment_result_controller import ExperimentResultController\n",
    "\n",
    "def load_images(path) -> list:\n",
    "    # Finding images\n",
    "    # image_loader = ImageLoader(folder=\"./data/Small_Data\")\n",
    "    image_loader = ImageLoader(folder=path)\n",
    "    images = image_loader.find_images()\n",
    "    return images\n",
    "\n",
    "\n",
    "image_path = \"test\"\n",
    "experiments_file = \"single.json\"\n",
    "\n",
    "# image_path =\"./data/flickr/flickr_validated_imgs_7000\"\n",
    "# bbdd = \"flickr\"\n",
    "# experiments_file = \"src/experiment/json/experiments_optuna_all.json\"\n",
    "\n",
    "images = load_images(image_path)\n",
    "\n",
    "# Classification level to analyze\n",
    "classification_lvl = [3]\n",
    "#prompts = [1,2]\n",
    "prompts = [3]\n",
    "n_lvlm_categories = 2\n",
    "#llava_models = (\"llava1-6_7b\", \"llava1-6_13b\", \"llava1-5_7b\")\n",
    "llava_models = [\"llava1-6_7b\"]\n",
    "# Cluster Range to filter\n",
    "n_cluster_range = (40,500)\n",
    "\n",
    "\n",
    "# Obtain experiments results\n",
    "with open(experiments_file, 'r') as f:\n",
    "    experiments_config = json.load(f)\n",
    "\n",
    "result_list = []\n",
    "result_list_top_trials = []\n",
    "for config in experiments_config:\n",
    "    eval_method = config.get(\"eval_method\", \"silhouette\")\n",
    "    id = config.get(\"id\",1)\n",
    "    dino_model = config.get(\"dino_model\")\n",
    "    dim_red = config.get(\"dim_red\",\"umap\")\n",
    "\n",
    "    # APPLY FILTERS FROM REDUCTION HIPERPARAMS\n",
    "    if dim_red == \"umap\":\n",
    "        reduction_params = {\n",
    "            \"n_components\": (2,25),\n",
    "            \"n_neighbors\": (3,60),\n",
    "            \"min_dist\": (0.1, 0.8)\n",
    "        }\n",
    "    elif dim_red == \"tsne\":\n",
    "        reduction_params = {\n",
    "            \"n_components\": (2,25),\n",
    "            \"perplexity\": (4,60),\n",
    "            \"early_exaggeration\": (7, 16)\n",
    "        }\n",
    "    else:\n",
    "        reduction_params = {\n",
    "            \"n_components\": (2,25)\n",
    "        }\n",
    "\n",
    "    experiment_controller = ExperimentResultController(eval_method, \n",
    "                                                        1,\n",
    "                                                        dino_model,\n",
    "                                                        experiment_id=id, \n",
    "                                                        n_cluster_range=n_cluster_range,\n",
    "                                                        reduction_params=reduction_params)\n",
    "    experiments_filtered = experiment_controller.get_top_k_experiments(top_k=5)\n",
    "    # best_experiment = experiment_controller.get_best_experiment_data(experiments_filtered)\n",
    "    # experiment_controller.create_cluster_dirs(images=images, experiment=best_experiment)\n",
    "    # experiment_controller.plot_all(best_experiment)"
   ]
  }
 ],
 "metadata": {
  "kernelspec": {
   "display_name": "ces",
   "language": "python",
   "name": "python3"
  },
  "language_info": {
   "codemirror_mode": {
    "name": "ipython",
    "version": 3
   },
   "file_extension": ".py",
   "mimetype": "text/x-python",
   "name": "python",
   "nbconvert_exporter": "python",
   "pygments_lexer": "ipython3",
   "version": "3.9.21"
  }
 },
 "nbformat": 4,
 "nbformat_minor": 2
}
