{
 "cells": [
  {
   "cell_type": "code",
   "execution_count": 2,
   "metadata": {},
   "outputs": [],
   "source": [
    "from pathlib import Path\n",
    "import pandas as pd\n"
   ]
  },
  {
   "cell_type": "code",
   "execution_count": 3,
   "metadata": {},
   "outputs": [
    {
     "name": "stdout",
     "output_type": "stream",
     "text": [
      "                                       img      category_llava     manual_category\n",
      "0  aiguestortes_NA_1366_47701956991__b.jpg        RECREATIONAL  NATURE & LANDSCAPE\n",
      "1  aiguestortes_NA_1633_31399087577__b.jpg  NATURE & LANDSCAPE       FAUNA & FLORA\n",
      "2  aiguestortes_NA_1633_50177463812__b.jpg        RECREATIONAL              SPORTS\n",
      "3  aiguestortes_NA_1690_52491627395__b.jpg  NATURE & LANDSCAPE  NATURE & LANDSCAPE\n",
      "4  aiguestortes_NA_2008_19242320949__b.jpg  NATURE & LANDSCAPE       FAUNA & FLORA\n",
      "5  aiguestortes_NA_4531_49900773177__b.jpg        BIRDWATCHING       FAUNA & FLORA\n",
      "6  aiguestortes_NA_4792_24046167316__b.jpg       FAUNA & FLORA        NOT RELEVANT\n",
      "7    guadarrama_NA_1089_20943542884__b.jpg               URBAN       RURAL TOURISM\n",
      "8    guadarrama_NA_1089_21378498778__b.jpg            CULTURAL           RELIGIOUS\n",
      "9    guadarrama_NA_1273_52582432385__b.jpg            CULTURAL        NOT RELEVANT\n"
     ]
    }
   ],
   "source": [
    "# Categorías a analizar\n",
    "categories = pd.read_csv(\"../../data/categories/categories_stoten.csv\", sep=\";\", header=None)\n",
    "categories_list = categories.iloc[:, 0].astype(str).str.upper().tolist()\n",
    "\n",
    "# Cogemos inferencia de llava\n",
    "llava_classification = pd.read_csv(\"../../data/inference/stoten_w_descriptions_plus_not_relevant.csv\", sep=\";\", header=0)\n",
    "llava_classification[\"img\"] = llava_classification[\"img\"].apply(lambda x: x.split(\"/\")[-1])\n",
    "llava_classification = llava_classification[[\"img\",\"category_llava\"]]\n",
    "llava_classification['category_llava'] = llava_classification['category_llava'].apply(lambda x: x.upper())\n",
    "# Las categorías que no están en la lista de categorías, han sido malas inferencias. \n",
    "\n",
    "# 1. Hay varias categorías que se pueden afinar. Por ejemplo, el modelo ha puesto SPIRITUAL, y no la frase completa\n",
    "# de Spiritual, symbolic and related connotations\n",
    "llava_classification[\"category_llava\"] = llava_classification[\"category_llava\"].replace(\"SPIRITUAL\",\"SPIRITUAL, SYMBOLIC AND RELATED CONNOTATIONS\") \n",
    "llava_classification[\"category_llava\"] = llava_classification[\"category_llava\"].replace(\"SYMBOLIC AND RELATED CONNOTATIONS\",\"SPIRITUAL, SYMBOLIC AND RELATED CONNOTATIONS\") \n",
    "\n",
    "llava_classification[\"category_llava\"] = llava_classification[\"category_llava\"].apply(\n",
    "                    lambda cat: cat if cat in categories_list or cat == \"NOT VALID\" or cat == \"NOT RELEVANT\" else \"BAD_INFERENCE\"\n",
    "                    )\n",
    "\n",
    "# Mergeamos con el resultado de etiquetado manual\n",
    "manual_classification = pd.read_csv(\"../../data/inference/stoten_manual_annotation.csv\", sep=\";\", header=0)\n",
    "# ATENCIÓN, HAY NAs NO CLASIFICADO EN STOTEN. Ponemos Other type\n",
    "manual_classification['manual_category'] = manual_classification['manual_category'].fillna(\"Other type\")\n",
    "manual_classification['manual_category'] = manual_classification['manual_category'].apply(lambda x: x.upper())\n",
    "# Unimos ambos por imagen\n",
    "result = llava_classification.merge(manual_classification[[\"img\",\"manual_category\"]],on=\"img\",how=\"left\")\n",
    "\n",
    "\n",
    "\n",
    "print(result.head(10).to_string())\n",
    "result.to_csv(\"lvlm_vs_manual.csv\",sep=\";\")\n",
    "\n"
   ]
  },
  {
   "cell_type": "code",
   "execution_count": 4,
   "metadata": {},
   "outputs": [
    {
     "name": "stdout",
     "output_type": "stream",
     "text": [
      "Empty DataFrame\n",
      "Columns: [img, category_llava, manual_category]\n",
      "Index: []\n"
     ]
    }
   ],
   "source": [
    "nan_rows = result[result.isna().any(axis=1)]\n",
    "print(nan_rows)"
   ]
  },
  {
   "cell_type": "code",
   "execution_count": 6,
   "metadata": {},
   "outputs": [
    {
     "name": "stdout",
     "output_type": "stream",
     "text": [
      "                    precision    recall  f1-score  support\n",
      "BIRDWATCHING         0.000000  0.000000  0.000000      0.0\n",
      "CULTURAL             0.270911  0.398165  0.322437    545.0\n",
      "FAUNA & FLORA        0.960139  0.410675  0.575286   1349.0\n",
      "GASTRONOMY           0.885714  0.534483  0.666667    290.0\n",
      "NATURE & LANDSCAPE   0.524201  0.731676  0.610801   1569.0\n",
      "NOT RELEVANT         0.829787  0.059954  0.111828   1301.0\n",
      "OTHER TYPE           0.000000  0.000000  0.000000     42.0\n",
      "RECREATIONAL         0.031862  0.393258  0.058947    178.0\n",
      "RELIGIOUS            0.850242  0.461942  0.598639    381.0\n",
      "RURAL TOURISM        0.638298  0.288462  0.397351    624.0\n",
      "SPORTS               0.700000  0.011076  0.021807    632.0\n",
      "SUN & BEACH          0.121212  0.071429  0.089888     56.0\n",
      "URBAN                0.115207  0.476190  0.185529    105.0\n"
     ]
    }
   ],
   "source": [
    "from sklearn.metrics import classification_report\n",
    "\n",
    "# Generar el reporte de clasificación\n",
    "report = classification_report(\n",
    "    result['manual_category'], \n",
    "    result['category_llava'], \n",
    "    output_dict=True, \n",
    "    zero_division=0\n",
    ")\n",
    "\n",
    "# Convertir a DataFrame y transponer para que las categorías sean el índice\n",
    "df_report = pd.DataFrame(report).T\n",
    "\n",
    "# # Mostrar el DataFrame con categorías a la izquierda y métricas como columnas\n",
    "# df_report = df_report.drop(columns=[\"support\"], errors=\"ignore\")\n",
    "df_report = df_report.drop(index=[\"accuracy\",\"macro avg\",\"weighted avg\",\"nan\"], errors=\"ignore\")\n",
    "# df_report = df_report.dropna(axis=0, how=\"all\")\n",
    "print(df_report.to_string())\n",
    "df_report = df_report.round(3)\n",
    "df_report.to_csv(\"lvlm_vs_manual_report.csv\", sep=\";\")\n"
   ]
  }
 ],
 "metadata": {
  "kernelspec": {
   "display_name": "ces_310",
   "language": "python",
   "name": "python3"
  },
  "language_info": {
   "codemirror_mode": {
    "name": "ipython",
    "version": 3
   },
   "file_extension": ".py",
   "mimetype": "text/x-python",
   "name": "python",
   "nbconvert_exporter": "python",
   "pygments_lexer": "ipython3",
   "version": "3.10.16"
  }
 },
 "nbformat": 4,
 "nbformat_minor": 2
}
