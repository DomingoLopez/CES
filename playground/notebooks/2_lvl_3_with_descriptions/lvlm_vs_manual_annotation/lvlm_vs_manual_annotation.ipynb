{
 "cells": [
  {
   "cell_type": "code",
   "execution_count": 2,
   "metadata": {},
   "outputs": [],
   "source": [
    "from pathlib import Path\n",
    "import pandas as pd\n"
   ]
  },
  {
   "cell_type": "code",
   "execution_count": 3,
   "metadata": {},
   "outputs": [
    {
     "name": "stdout",
     "output_type": "stream",
     "text": [
      "                                       img           category_llava                               manual_category\n",
      "0  aiguestortes_NA_1366_47701956991__b.jpg                LANDFORMS                                     LANDFORMS\n",
      "1  aiguestortes_NA_1633_31399087577__b.jpg  VEGETATION AND HABITATS                       VEGETATION AND HABITATS\n",
      "2  aiguestortes_NA_1633_50177463812__b.jpg   TERRESTRIAL ACTIVITIES                        TERRESTRIAL ACTIVITIES\n",
      "3  aiguestortes_NA_1690_52491627395__b.jpg  VEGETATION AND HABITATS                             TRACKS AND TRAILS\n",
      "4  aiguestortes_NA_2008_19242320949__b.jpg  VEGETATION AND HABITATS                                        PLANTS\n",
      "5  aiguestortes_NA_4531_49900773177__b.jpg                  ANIMALS                                       ANIMALS\n",
      "6  aiguestortes_NA_4792_24046167316__b.jpg                  ANIMALS                                  NOT RELEVANT\n",
      "7    guadarrama_NA_1089_20943542884__b.jpg       TOWNS AND VILLAGES                            TOWNS AND VILLAGES\n",
      "8    guadarrama_NA_1089_21378498778__b.jpg     HERITAGE AND CULTURE  SPIRITUAL, SYMBOLIC AND RELATED CONNOTATIONS\n",
      "9    guadarrama_NA_1273_52582432385__b.jpg     HERITAGE AND CULTURE                                  NOT RELEVANT\n"
     ]
    }
   ],
   "source": [
    "# Categorías a analizar\n",
    "categories = pd.read_csv(\"../../data/categories/categories_lvl_3.csv\", sep=\";\", header=None)\n",
    "categories_list = categories.iloc[:, 0].astype(str).str.upper().tolist()\n",
    "\n",
    "# Cogemos inferencia de llava\n",
    "llava_classification = pd.read_csv(\"../../data/inference/lvl_3_w_descriptions.csv\", sep=\";\", header=0)\n",
    "llava_classification[\"img\"] = llava_classification[\"img\"].apply(lambda x: x.split(\"/\")[-1])\n",
    "llava_classification = llava_classification[[\"img\",\"category_llava\"]]\n",
    "llava_classification['category_llava'] = llava_classification['category_llava'].apply(lambda x: x.upper())\n",
    "# Las categorías que no están en la lista de categorías, han sido malas inferencias. \n",
    "\n",
    "# 1. Hay varias categorías que se pueden afinar. Por ejemplo, el modelo ha puesto SPIRITUAL, y no la frase completa\n",
    "# de Spiritual, symbolic and related connotations\n",
    "llava_classification[\"category_llava\"] = llava_classification[\"category_llava\"].replace(\"SPIRITUAL\",\"SPIRITUAL, SYMBOLIC AND RELATED CONNOTATIONS\") \n",
    "llava_classification[\"category_llava\"] = llava_classification[\"category_llava\"].replace(\"SYMBOLIC AND RELATED CONNOTATIONS\",\"SPIRITUAL, SYMBOLIC AND RELATED CONNOTATIONS\") \n",
    "\n",
    "llava_classification[\"category_llava\"] = llava_classification[\"category_llava\"].apply(\n",
    "                    lambda cat: cat if cat in categories_list or cat == \"NOT VALID\" or cat == \"NOT RELEVANT\" else \"BAD_INFERENCE\"\n",
    "                    )\n",
    "\n",
    "# Mergeamos con el resultado de etiquetado manual\n",
    "manual_classification = pd.read_csv(\"../../data/inference/lvl_3_manual_annotation.csv\", sep=\";\", header=0)\n",
    "manual_classification['manual_category'] = manual_classification['manual_category'].apply(lambda x: x.upper())\n",
    "# Unimos ambos por imagen\n",
    "result = llava_classification.merge(manual_classification[[\"img\",\"manual_category\"]],on=\"img\",how=\"left\")\n",
    "\n",
    "\n",
    "\n",
    "print(result.head(10).to_string())\n",
    "result.to_csv(\"lvlm_vs_manual.csv\",sep=\";\")\n",
    "\n"
   ]
  },
  {
   "cell_type": "code",
   "execution_count": 4,
   "metadata": {},
   "outputs": [
    {
     "name": "stdout",
     "output_type": "stream",
     "text": [
      "Empty DataFrame\n",
      "Columns: [img, category_llava, manual_category]\n",
      "Index: []\n"
     ]
    }
   ],
   "source": [
    "nan_rows = result[result.isna().any(axis=1)]\n",
    "print(nan_rows)"
   ]
  },
  {
   "cell_type": "code",
   "execution_count": 5,
   "metadata": {},
   "outputs": [
    {
     "name": "stdout",
     "output_type": "stream",
     "text": [
      "                                              precision    recall  f1-score  support\n",
      "ACCOMMODATION                                  0.601504  0.592593  0.597015    135.0\n",
      "AIR ACTIVITIES                                 0.566667  0.680000  0.618182     25.0\n",
      "ANIMALS                                        0.904000  0.458418  0.608345    493.0\n",
      "BAD_INFERENCE                                  0.000000  0.000000  0.000000      0.0\n",
      "BRIDGE                                         0.536082  0.735849  0.620278    212.0\n",
      "CITIES                                         1.000000  0.010417  0.020619     96.0\n",
      "COMMERCE FACILITIES                            0.644737  0.168385  0.267030    291.0\n",
      "DAM                                            0.777778  0.118644  0.205882     59.0\n",
      "FUNGUS                                         0.730769  0.760000  0.745098     25.0\n",
      "GARDENS                                        0.000000  0.000000  0.000000      0.0\n",
      "HERITAGE AND CULTURE                           0.155863  0.777778  0.259687    405.0\n",
      "KNOWLEDGE                                      0.000000  0.000000  0.000000    163.0\n",
      "LANDFORMS                                      0.464111  0.670200  0.548434    849.0\n",
      "LIGHTHOUSE                                     1.000000  0.307692  0.470588     13.0\n",
      "NOT RELEVANT                                   0.000000  0.000000  0.000000    956.0\n",
      "OTHER ABIOTIC FEATURES                         0.481481  0.520000  0.500000    375.0\n",
      "PLANTS                                         0.839286  0.096311  0.172794    488.0\n",
      "ROADS                                          0.451542  0.803922  0.578279    255.0\n",
      "SHELTER                                        0.185185  0.294118  0.227273     17.0\n",
      "SPIRITUAL, SYMBOLIC AND RELATED CONNOTATIONS   0.548387  0.044619  0.082524    381.0\n",
      "TERRESTRIAL ACTIVITIES                         0.664122  0.193333  0.299484    450.0\n",
      "TOWNS AND VILLAGES                             0.686567  0.312394  0.429405    589.0\n",
      "TRACKS AND TRAILS                              0.162162  0.129032  0.143713     93.0\n",
      "VEGETATION AND HABITATS                        0.156277  0.695312  0.255197    256.0\n",
      "VEHICLE                                        0.829016  0.553633  0.663900    289.0\n",
      "WATER ACTIVITIES                               0.494845  0.750000  0.596273     64.0\n",
      "WIND FARM                                      0.307692  0.800000  0.444444      5.0\n",
      "WINTER ACTIVITIES                              0.873239  0.704545  0.779874     88.0\n"
     ]
    }
   ],
   "source": [
    "from sklearn.metrics import classification_report\n",
    "\n",
    "# Generar el reporte de clasificación\n",
    "report = classification_report(\n",
    "    result['manual_category'], \n",
    "    result['category_llava'], \n",
    "    output_dict=True, \n",
    "    zero_division=0\n",
    ")\n",
    "\n",
    "# Convertir a DataFrame y transponer para que las categorías sean el índice\n",
    "df_report = pd.DataFrame(report).T\n",
    "\n",
    "# # Mostrar el DataFrame con categorías a la izquierda y métricas como columnas\n",
    "# df_report = df_report.drop(columns=[\"support\"], errors=\"ignore\")\n",
    "df_report = df_report.drop(index=[\"accuracy\",\"macro avg\",\"weighted avg\",\"nan\"], errors=\"ignore\")\n",
    "# df_report = df_report.dropna(axis=0, how=\"all\")\n",
    "print(df_report.to_string())\n",
    "df_report = df_report.round(3)\n",
    "df_report.to_csv(\"lvlm_vs_manual_report.csv\", sep=\";\")\n"
   ]
  }
 ],
 "metadata": {
  "kernelspec": {
   "display_name": "ces_310",
   "language": "python",
   "name": "python3"
  },
  "language_info": {
   "codemirror_mode": {
    "name": "ipython",
    "version": 3
   },
   "file_extension": ".py",
   "mimetype": "text/x-python",
   "name": "python",
   "nbconvert_exporter": "python",
   "pygments_lexer": "ipython3",
   "version": "3.10.16"
  }
 },
 "nbformat": 4,
 "nbformat_minor": 2
}
