{
 "cells": [
  {
   "cell_type": "code",
   "execution_count": 18,
   "metadata": {},
   "outputs": [],
   "source": [
    "from datetime import datetime\n",
    "import hdbscan\n",
    "from pathlib import Path\n",
    "from typing import Optional\n",
    "import pandas as pd\n",
    "from loguru import logger\n",
    "from sklearn.datasets import make_blobs\n"
   ]
  },
  {
   "cell_type": "code",
   "execution_count": null,
   "metadata": {},
   "outputs": [
    {
     "name": "stdout",
     "output_type": "stream",
     "text": [
      "                                       img          category_llava                               manual_category\n",
      "0  aiguestortes_NA_1366_47701956991__b.jpg                 SHELTER                                     LANDFORMS\n",
      "1  aiguestortes_NA_1633_31399087577__b.jpg                  PLANTS                       VEGETATION AND HABITATS\n",
      "2  aiguestortes_NA_1633_50177463812__b.jpg  TERRESTRIAL ACTIVITIES                        TERRESTRIAL ACTIVITIES\n",
      "3  aiguestortes_NA_1690_52491627395__b.jpg                  BRIDGE                             TRACKS AND TRAILS\n",
      "4  aiguestortes_NA_2008_19242320949__b.jpg                  PLANTS                                        PLANTS\n",
      "5  aiguestortes_NA_4531_49900773177__b.jpg                 ANIMALS                                       ANIMALS\n",
      "6  aiguestortes_NA_4792_24046167316__b.jpg    HERITAGE AND CULTURE                                  NOT RELEVANT\n",
      "7    guadarrama_NA_1089_20943542884__b.jpg                  CITIES                            TOWNS AND VILLAGES\n",
      "8    guadarrama_NA_1089_21378498778__b.jpg    HERITAGE AND CULTURE  SPIRITUAL, SYMBOLIC AND RELATED CONNOTATIONS\n",
      "9    guadarrama_NA_1273_52582432385__b.jpg    HERITAGE AND CULTURE                                  NOT RELEVANT\n"
     ]
    }
   ],
   "source": [
    "# Añado clúster a la inferencia de Llava\n",
    "llava_classification = pd.read_csv()\n",
    "# Mergeamos con el resultado de etiquetado manual\n",
    "manual_classification = pd.read_csv(\"data/results_manual_annotation/inference_results.csv\", sep=\";\", header=0)\n",
    "manual_classification['manual_category'] = manual_classification['manual_category'].apply(lambda x: x.upper())\n",
    "# Unimos ambos por imagen\n",
    "result = llava_classification.merge(manual_classification[[\"img\",\"manual_category\"]],on=\"img\",how=\"left\")\n",
    "\n",
    "# # Hay una que se queda NA, creo que es por algo del formato:\n",
    "# # Rellenamos con roads que es lo que Carlos ha puesto, pero no lo coge\n",
    "result['manual_category'] = result['manual_category'].astype(str).fillna(\"ROADS\")\n",
    "\n",
    "\n",
    "print(result.head(10).to_string())\n",
    "result.to_csv(\"df_final_lvlm_vs_manual.csv\",sep=\";\")\n",
    "\n"
   ]
  },
  {
   "cell_type": "code",
   "execution_count": 50,
   "metadata": {},
   "outputs": [
    {
     "name": "stdout",
     "output_type": "stream",
     "text": [
      "Empty DataFrame\n",
      "Columns: [img, category_llava, manual_category]\n",
      "Index: []\n"
     ]
    }
   ],
   "source": [
    "nan_rows = result[result.isna().any(axis=1)]\n",
    "print(nan_rows)"
   ]
  },
  {
   "cell_type": "code",
   "execution_count": 51,
   "metadata": {},
   "outputs": [],
   "source": [
    "import pandas as pd\n",
    "import matplotlib.pyplot as plt\n",
    "\n",
    "# Función para filtrar y graficar\n",
    "def plot_line_chart(df, metric_name):\n",
    "    df = df.fillna(0)  # Reemplaza NaN con 0\n",
    "    df = df.loc[(df != 0).any(axis=1)]  # Filtrar filas donde al menos un valor es distinto de 0\n",
    "\n",
    "    if df.empty:\n",
    "        print(\"No hay datos para graficar después del filtrado.\")\n",
    "        return\n",
    "\n",
    "    # Transponer el DataFrame para que los umbrales estén en el eje X\n",
    "    df_t = df.T\n",
    "\n",
    "    # Crear la figura\n",
    "    plt.figure(figsize=(12, 6))\n",
    "\n",
    "    # Graficar cada categoría con líneas\n",
    "    for category in df_t.columns:\n",
    "        plt.plot(df_t.index, df_t[category], marker='o', linestyle='-', label=category, alpha=0.7)\n",
    "\n",
    "    # Configurar etiquetas y título\n",
    "    plt.xlabel('Umbral de la métrica')\n",
    "    plt.ylabel(metric_name)\n",
    "    plt.title(f'Evolución de {metric_name} por Categoría')\n",
    "    plt.legend(loc='center left', bbox_to_anchor=(1, 0.5))  # Leyenda fuera de la gráfica\n",
    "    plt.grid(True, linestyle='--', alpha=0.5)\n",
    "    plt.xticks(rotation=45)\n",
    "\n",
    "    plt.tight_layout()\n",
    "    plt.show()\n"
   ]
  },
  {
   "cell_type": "code",
   "execution_count": 54,
   "metadata": {},
   "outputs": [
    {
     "name": "stdout",
     "output_type": "stream",
     "text": [
      "                                              precision    recall  f1-score\n",
      "ACCOMMODATION                                  0.000000  0.000000  0.000000\n",
      "AIR ACTIVITIES                                 0.607143  0.680000  0.641509\n",
      "ANIMALS                                        0.937158  0.695740  0.798603\n",
      "BAD_INFERENCE                                  0.000000  0.000000  0.000000\n",
      "BRIDGE                                         0.622449  0.863208  0.723320\n",
      "CITIES                                         0.291139  0.239583  0.262857\n",
      "COMMERCE FACILITIES                            0.439024  0.247423  0.316484\n",
      "DAM                                            0.791667  0.322034  0.457831\n",
      "DOCK                                           0.000000  0.000000  0.000000\n",
      "FUNGUS                                         1.000000  0.760000  0.863636\n",
      "HERITAGE AND CULTURE                           0.152980  0.804938  0.257098\n",
      "KNOWLEDGE                                      0.000000  0.000000  0.000000\n",
      "LANDFORMS                                      0.569948  0.388693  0.462185\n",
      "LIGHTHOUSE                                     0.108911  0.846154  0.192982\n",
      "NOT RELEVANT                                   0.000000  0.000000  0.000000\n",
      "OTHER ABIOTIC FEATURES                         0.000000  0.000000  0.000000\n",
      "PLANTS                                         0.480549  0.860656  0.616740\n",
      "ROADS                                          0.545238  0.901575  0.679525\n",
      "SHELTER                                        0.080000  0.588235  0.140845\n",
      "SPIRITUAL, SYMBOLIC AND RELATED CONNOTATIONS   0.000000  0.000000  0.000000\n",
      "TERRESTRIAL ACTIVITIES                         0.462687  0.137778  0.212329\n",
      "TOWNS AND VILLAGES                             0.671795  0.444822  0.535240\n",
      "TRACKS AND TRAILS                              0.077703  0.247312  0.118252\n",
      "VEGETATION AND HABITATS                        0.000000  0.000000  0.000000\n",
      "VEHICLE                                        0.750000  0.674740  0.710383\n",
      "WATER ACTIVITIES                               0.155673  0.921875  0.266366\n",
      "WIND FARM                                      0.085106  0.800000  0.153846\n",
      "WINTER ACTIVITIES                              0.567164  0.863636  0.684685\n"
     ]
    }
   ],
   "source": [
    "from sklearn.metrics import classification_report\n",
    "\n",
    "# Generar el reporte de clasificación\n",
    "report = classification_report(\n",
    "    result['manual_category'], \n",
    "    result['category_llava'], \n",
    "    output_dict=True, \n",
    "    zero_division=0\n",
    ")\n",
    "\n",
    "# Convertir a DataFrame y transponer para que las categorías sean el índice\n",
    "df_report = pd.DataFrame(report).T\n",
    "\n",
    "# Mostrar el DataFrame con categorías a la izquierda y métricas como columnas\n",
    "df_report = df_report.drop(columns=[\"support\"], errors=\"ignore\")\n",
    "df_report = df_report.drop(index=[\"accuracy\",\"macro avg\",\"weighted avg\",\"nan\"], errors=\"ignore\")\n",
    "df_report = df_report.dropna(axis=0, how=\"all\")\n",
    "print(df_report)\n",
    "\n",
    "os.makedirs(\"results_report\",exist_ok=True)\n",
    "df_report.to_csv(\"results_report/lvlm_vs_manual.csv\", sep=\";\")\n"
   ]
  }
 ],
 "metadata": {
  "kernelspec": {
   "display_name": "ces_310",
   "language": "python",
   "name": "python3"
  },
  "language_info": {
   "codemirror_mode": {
    "name": "ipython",
    "version": 3
   },
   "file_extension": ".py",
   "mimetype": "text/x-python",
   "name": "python",
   "nbconvert_exporter": "python",
   "pygments_lexer": "ipython3",
   "version": "3.10.16"
  }
 },
 "nbformat": 4,
 "nbformat_minor": 2
}
