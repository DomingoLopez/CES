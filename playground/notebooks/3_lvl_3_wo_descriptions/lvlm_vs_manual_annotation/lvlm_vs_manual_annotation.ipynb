{
 "cells": [
  {
   "cell_type": "code",
   "execution_count": 2,
   "metadata": {},
   "outputs": [],
   "source": [
    "from pathlib import Path\n",
    "import pandas as pd\n"
   ]
  },
  {
   "cell_type": "code",
   "execution_count": 3,
   "metadata": {},
   "outputs": [
    {
     "name": "stdout",
     "output_type": "stream",
     "text": [
      "                                       img          category_llava                               manual_category\n",
      "0  aiguestortes_NA_1366_47701956991__b.jpg                 SHELTER                                     LANDFORMS\n",
      "1  aiguestortes_NA_1633_31399087577__b.jpg                  PLANTS                       VEGETATION AND HABITATS\n",
      "2  aiguestortes_NA_1633_50177463812__b.jpg  TERRESTRIAL ACTIVITIES                        TERRESTRIAL ACTIVITIES\n",
      "3  aiguestortes_NA_1690_52491627395__b.jpg                  BRIDGE                             TRACKS AND TRAILS\n",
      "4  aiguestortes_NA_2008_19242320949__b.jpg                  PLANTS                                        PLANTS\n",
      "5  aiguestortes_NA_4531_49900773177__b.jpg                 ANIMALS                                       ANIMALS\n",
      "6  aiguestortes_NA_4792_24046167316__b.jpg    HERITAGE AND CULTURE                                  NOT RELEVANT\n",
      "7    guadarrama_NA_1089_20943542884__b.jpg                  CITIES                            TOWNS AND VILLAGES\n",
      "8    guadarrama_NA_1089_21378498778__b.jpg    HERITAGE AND CULTURE  SPIRITUAL, SYMBOLIC AND RELATED CONNOTATIONS\n",
      "9    guadarrama_NA_1273_52582432385__b.jpg    HERITAGE AND CULTURE                                  NOT RELEVANT\n"
     ]
    }
   ],
   "source": [
    "# Categorías a analizar\n",
    "categories = pd.read_csv(\"../../data/categories/categories_lvl_3.csv\", sep=\";\", header=None)\n",
    "categories_list = categories.iloc[:, 0].astype(str).str.upper().tolist()\n",
    "\n",
    "# Cogemos inferencia de llava\n",
    "llava_classification = pd.read_csv(\"../../data/inference/lvl_3_wo_descriptions.csv\", sep=\";\", header=0)\n",
    "llava_classification[\"img\"] = llava_classification[\"img\"].apply(lambda x: x.split(\"/\")[-1])\n",
    "llava_classification['category_llava'] = llava_classification['category_llava'].apply(lambda x: x.upper())\n",
    "llava_classification = llava_classification[[\"img\",\"category_llava\"]]\n",
    "# Las categorías que no están en la lista de categorías, han sido malas inferencias. \n",
    "\n",
    "# 1. Hay varias categorías que se pueden afinar. Por ejemplo, el modelo ha puesto SPIRITUAL, y no la frase completa\n",
    "# de Spiritual, symbolic and related connotations\n",
    "llava_classification[\"category_llava\"] = llava_classification[\"category_llava\"].replace(\"SPIRITUAL\",\"SPIRITUAL, SYMBOLIC AND RELATED CONNOTATIONS\") \n",
    "llava_classification[\"category_llava\"] = llava_classification[\"category_llava\"].replace(\"SYMBOLIC AND RELATED CONNOTATIONS\",\"SPIRITUAL, SYMBOLIC AND RELATED CONNOTATIONS\") \n",
    "\n",
    "llava_classification[\"category_llava\"] = llava_classification[\"category_llava\"].apply(\n",
    "                    lambda cat: cat if cat in categories_list or cat == \"NOT VALID\" or cat == \"NOT RELEVANT\" else \"BAD_INFERENCE\"\n",
    "                    )\n",
    "\n",
    "# Mergeamos con el resultado de etiquetado manual\n",
    "manual_classification = pd.read_csv(\"../../data/inference/lvl_3_manual_annotation.csv\", sep=\";\", header=0)\n",
    "manual_classification['manual_category'] = manual_classification['manual_category'].apply(lambda x: x.upper())\n",
    "# Unimos ambos por imagen\n",
    "result = llava_classification.merge(manual_classification[[\"img\",\"manual_category\"]],on=\"img\",how=\"left\")\n",
    "\n",
    "\n",
    "print(result.head(10).to_string())\n",
    "result.to_csv(\"lvlm_vs_manual.csv\",sep=\";\")\n",
    "\n"
   ]
  },
  {
   "cell_type": "code",
   "execution_count": 4,
   "metadata": {},
   "outputs": [
    {
     "name": "stdout",
     "output_type": "stream",
     "text": [
      "Empty DataFrame\n",
      "Columns: [img, category_llava, manual_category]\n",
      "Index: []\n"
     ]
    }
   ],
   "source": [
    "nan_rows = result[result.isna().any(axis=1)]\n",
    "print(nan_rows)"
   ]
  },
  {
   "cell_type": "code",
   "execution_count": 5,
   "metadata": {},
   "outputs": [
    {
     "name": "stdout",
     "output_type": "stream",
     "text": [
      "                                              precision    recall  f1-score  support\n",
      "ACCOMMODATION                                  0.860465  0.274074  0.415730    135.0\n",
      "AIR ACTIVITIES                                 0.607143  0.680000  0.641509     25.0\n",
      "ANIMALS                                        0.937158  0.695740  0.798603    493.0\n",
      "BAD_INFERENCE                                  0.000000  0.000000  0.000000      0.0\n",
      "BRIDGE                                         0.622449  0.863208  0.723320    212.0\n",
      "CITIES                                         0.291139  0.239583  0.262857     96.0\n",
      "COMMERCE FACILITIES                            0.439024  0.247423  0.316484    291.0\n",
      "DAM                                            0.791667  0.322034  0.457831     59.0\n",
      "DOCK                                           0.000000  0.000000  0.000000      0.0\n",
      "FUNGUS                                         1.000000  0.760000  0.863636     25.0\n",
      "HERITAGE AND CULTURE                           0.152980  0.804938  0.257098    405.0\n",
      "KNOWLEDGE                                      0.000000  0.000000  0.000000    163.0\n",
      "LANDFORMS                                      0.569948  0.388693  0.462185    849.0\n",
      "LIGHTHOUSE                                     0.108911  0.846154  0.192982     13.0\n",
      "NOT RELEVANT                                   0.000000  0.000000  0.000000    956.0\n",
      "OTHER ABIOTIC FEATURES                         0.000000  0.000000  0.000000    375.0\n",
      "PLANTS                                         0.480549  0.860656  0.616740    488.0\n",
      "ROADS                                          0.547619  0.901961  0.681481    255.0\n",
      "SHELTER                                        0.080000  0.588235  0.140845     17.0\n",
      "SPIRITUAL, SYMBOLIC AND RELATED CONNOTATIONS   0.531250  0.178478  0.267191    381.0\n",
      "TERRESTRIAL ACTIVITIES                         0.462687  0.137778  0.212329    450.0\n",
      "TOWNS AND VILLAGES                             0.671795  0.444822  0.535240    589.0\n",
      "TRACKS AND TRAILS                              0.077703  0.247312  0.118252     93.0\n",
      "VEGETATION AND HABITATS                        0.000000  0.000000  0.000000    256.0\n",
      "VEHICLE                                        0.750000  0.674740  0.710383    289.0\n",
      "WATER ACTIVITIES                               0.155673  0.921875  0.266366     64.0\n",
      "WIND FARM                                      0.085106  0.800000  0.153846      5.0\n",
      "WINTER ACTIVITIES                              0.567164  0.863636  0.684685     88.0\n"
     ]
    }
   ],
   "source": [
    "from sklearn.metrics import classification_report\n",
    "\n",
    "# Generar el reporte de clasificación\n",
    "report = classification_report(\n",
    "    result['manual_category'], \n",
    "    result['category_llava'], \n",
    "    output_dict=True, \n",
    "    zero_division=0\n",
    ")\n",
    "\n",
    "# Convertir a DataFrame y transponer para que las categorías sean el índice\n",
    "df_report = pd.DataFrame(report).T\n",
    "\n",
    "# # Mostrar el DataFrame con categorías a la izquierda y métricas como columnas\n",
    "# df_report = df_report.drop(columns=[\"support\"], errors=\"ignore\")\n",
    "df_report = df_report.drop(index=[\"accuracy\",\"macro avg\",\"weighted avg\",\"nan\"], errors=\"ignore\")\n",
    "# df_report = df_report.dropna(axis=0, how=\"all\")\n",
    "print(df_report.to_string())\n",
    "df_report = df_report.round(3)\n",
    "df_report.to_csv(\"lvlm_vs_manual_report.csv\", sep=\";\")\n"
   ]
  }
 ],
 "metadata": {
  "kernelspec": {
   "display_name": "ces_310",
   "language": "python",
   "name": "python3"
  },
  "language_info": {
   "codemirror_mode": {
    "name": "ipython",
    "version": 3
   },
   "file_extension": ".py",
   "mimetype": "text/x-python",
   "name": "python",
   "nbconvert_exporter": "python",
   "pygments_lexer": "ipython3",
   "version": "3.10.16"
  }
 },
 "nbformat": 4,
 "nbformat_minor": 2
}
