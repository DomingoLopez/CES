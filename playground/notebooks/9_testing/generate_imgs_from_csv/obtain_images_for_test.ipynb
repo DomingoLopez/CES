{
 "cells": [
  {
   "cell_type": "code",
   "execution_count": 9,
   "metadata": {},
   "outputs": [],
   "source": [
    "import pandas as pd"
   ]
  },
  {
   "cell_type": "code",
   "execution_count": 10,
   "metadata": {},
   "outputs": [],
   "source": [
    "lvlm_vs_manual = pd.read_csv(\"lvlm_vs_manual.csv\",sep=\";\", header=0, index_col=0)\n",
    "images = pd.read_csv(\"images.csv\",sep=\";\", header=0)\n",
    "images[\"img\"] = images[\"img\"].apply(lambda x: x+\".jpg\")\n",
    "\n",
    "df = images.merge(lvlm_vs_manual,how=\"left\",on=\"img\")"
   ]
  },
  {
   "cell_type": "code",
   "execution_count": 11,
   "metadata": {},
   "outputs": [
    {
     "name": "stdout",
     "output_type": "stream",
     "text": [
      "                                         img category_llava manual_category\n",
      "0            snev_NA_4925_29306162302__b.jpg          URBAN       RELIGIOUS\n",
      "1           picos_NA_3258_50365711787__b.jpg       CULTURAL       RELIGIOUS\n",
      "2    aiguestortes_NA_1619_34763829755__b.jpg   RECREATIONAL       RELIGIOUS\n",
      "3           picos_NA_7249_49973985766__b.jpg       CULTURAL       RELIGIOUS\n",
      "4            snev_NA_8511_51698750849__b.jpg       CULTURAL       RELIGIOUS\n",
      "5            snev_NA_4694_22063611972__b.jpg       CULTURAL       RELIGIOUS\n",
      "6          peneda_NA_1844_45565296812__b.jpg       CULTURAL       RELIGIOUS\n",
      "7            snev_NA_1410_17253243052__b.jpg       CULTURAL       RELIGIOUS\n",
      "8      guadarrama_NA_4515_21806090224__b.jpg       CULTURAL       RELIGIOUS\n",
      "9          ordesa_NA_3157_51291233748__b.jpg       CULTURAL       RELIGIOUS\n",
      "10  sierra_nieves_NA_2939_30281392654__b.jpg       CULTURAL       RELIGIOUS\n",
      "11         peneda_NA_6529_19646063464__b.jpg       CULTURAL       RELIGIOUS\n",
      "12  sierra_nieves_NA_5143_52391695840__b.jpg   RECREATIONAL          SPORTS\n",
      "13           teide_NA_847_34743975986__b.jpg   RECREATIONAL          SPORTS\n",
      "14     guadarrama_NA_1265_16668328484__b.jpg   RECREATIONAL          SPORTS\n",
      "15         ordesa_NA_1864_50947175287__b.jpg   RECREATIONAL          SPORTS\n",
      "16   aiguestortes_NA_1700_16680679392__b.jpg   RECREATIONAL          SPORTS\n",
      "17   aiguestortes_NA_2372_51475772958__b.jpg   RECREATIONAL          SPORTS\n",
      "18   aiguestortes_NA_3018_16410769522__b.jpg   RECREATIONAL          SPORTS\n",
      "19           snev_NA_3175_16173052383__b.jpg   RECREATIONAL          SPORTS\n",
      "20     guadarrama_NA_3055_21010918790__b.jpg   RECREATIONAL          SPORTS\n",
      "21   aiguestortes_NA_3319_25817607840__b.jpg   RECREATIONAL          SPORTS\n",
      "22           snev_NA_4018_25436145167__b.jpg   RECREATIONAL          SPORTS\n",
      "23          snev_NA_10940_22511289601__b.jpg   RECREATIONAL          SPORTS\n",
      "24          teide_NA_1678_48402684062__b.jpg   RECREATIONAL          SPORTS\n",
      "25           snev_NA_5470_27811153180__b.jpg   RECREATIONAL          SPORTS\n",
      "26   aiguestortes_NA_4727_32523708771__b.jpg   RECREATIONAL          SPORTS\n",
      "27           teide_NA_713_51711196544__b.jpg   RECREATIONAL     SUN & BEACH\n",
      "28  sierra_nieves_NA_5536_48874066411__b.jpg   RECREATIONAL     SUN & BEACH\n",
      "29          teide_NA_1677_39035630460__b.jpg   RECREATIONAL     SUN & BEACH\n",
      "30          picos_NA_2594_51407638140__b.jpg   RECREATIONAL     SUN & BEACH\n",
      "31  sierra_nieves_NA_3058_19539413211__b.jpg   RECREATIONAL     SUN & BEACH\n",
      "32          picos_NA_2273_20675693952__b.jpg   RECREATIONAL     SUN & BEACH\n"
     ]
    }
   ],
   "source": [
    "print(df.to_string())\n",
    "df.to_csv(\"images_to_analyze.csv\",sep=\";\")"
   ]
  },
  {
   "cell_type": "code",
   "execution_count": null,
   "metadata": {},
   "outputs": [
    {
     "name": "stdout",
     "output_type": "stream",
     "text": [
      "33\n"
     ]
    }
   ],
   "source": [
    "# Load images\n",
    "from pathlib import Path\n",
    "\n",
    "\n",
    "# Obtener la ruta del directorio actual\n",
    "current_dir = Path.cwd()\n",
    "# Ir dos niveles arriba\n",
    "base_path = current_dir.parents[1]\n",
    "# Definir la ruta de las imágenes\n",
    "url = base_path / \"data/flickr/flickr_validated_imgs_7000\"\n",
    "\n",
    "bbdd = \"flickr\"\n",
    "image_extensions = ['.jpg', '.jpeg', '.png', '.bmp']\n",
    "# Find all image files recursively and filter by extension (lowercase only)\n",
    "image_paths = [img_path for img_path in url.rglob('*') if img_path.suffix.lower() in image_extensions]\n",
    "# Convert to lowercase and remove duplicates (especially relevant for Windows)\n",
    "unique_image_paths = {img_path.resolve().as_posix(): img_path for img_path in image_paths}\n",
    "images =  list(unique_image_paths.values())\n",
    "\n",
    "filtered_images = [img for img in images if str(img.resolve()).split(\"/\")[-1] in list(df[\"img\"])]\n",
    "print(len(filtered_images))\n",
    "\n",
    "\n"
   ]
  }
 ],
 "metadata": {
  "kernelspec": {
   "display_name": "ces_310",
   "language": "python",
   "name": "python3"
  },
  "language_info": {
   "codemirror_mode": {
    "name": "ipython",
    "version": 3
   },
   "file_extension": ".py",
   "mimetype": "text/x-python",
   "name": "python",
   "nbconvert_exporter": "python",
   "pygments_lexer": "ipython3",
   "version": "3.10.16"
  }
 },
 "nbformat": 4,
 "nbformat_minor": 2
}
