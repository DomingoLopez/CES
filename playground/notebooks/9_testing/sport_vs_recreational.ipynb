{
 "cells": [
  {
   "cell_type": "code",
   "execution_count": 1,
   "metadata": {},
   "outputs": [],
   "source": [
    "import pandas as pd"
   ]
  },
  {
   "cell_type": "code",
   "execution_count": 5,
   "metadata": {},
   "outputs": [],
   "source": [
    "inference = pd.read_csv(\"inference_results.csv\",header=0,sep=\";\")\n",
    "inference[\"img\"] = inference[\"img\"].apply(lambda x: x.split(\"/\")[-1])\n",
    "original = pd.read_csv(\"images_to_analyze.csv\", header=0, sep=\";\")\n",
    "\n",
    "df = original.merge(inference, how=\"left\", on=\"img\")\n",
    "df = df[[\"img\",\"manual_category\",\"category_llava\",\"category_llava_inference\"]]"
   ]
  },
  {
   "cell_type": "code",
   "execution_count": 6,
   "metadata": {},
   "outputs": [
    {
     "name": "stdout",
     "output_type": "stream",
     "text": [
      "                                         img manual_category category_llava category_llava_inference\n",
      "0            snev_NA_4925_29306162302__b.jpg       RELIGIOUS          URBAN                 Cultural\n",
      "1           picos_NA_3258_50365711787__b.jpg       RELIGIOUS       CULTURAL                 Cultural\n",
      "2    aiguestortes_NA_1619_34763829755__b.jpg       RELIGIOUS   RECREATIONAL             Recreational\n",
      "3           picos_NA_7249_49973985766__b.jpg       RELIGIOUS       CULTURAL                 Cultural\n",
      "4            snev_NA_8511_51698750849__b.jpg       RELIGIOUS       CULTURAL                 Cultural\n",
      "5            snev_NA_4694_22063611972__b.jpg       RELIGIOUS       CULTURAL                 Cultural\n",
      "6          peneda_NA_1844_45565296812__b.jpg       RELIGIOUS       CULTURAL                 Cultural\n",
      "7            snev_NA_1410_17253243052__b.jpg       RELIGIOUS       CULTURAL                 Cultural\n",
      "8      guadarrama_NA_4515_21806090224__b.jpg       RELIGIOUS       CULTURAL                 Cultural\n",
      "9          ordesa_NA_3157_51291233748__b.jpg       RELIGIOUS       CULTURAL                 Cultural\n",
      "10  sierra_nieves_NA_2939_30281392654__b.jpg       RELIGIOUS       CULTURAL                 Cultural\n",
      "11         peneda_NA_6529_19646063464__b.jpg       RELIGIOUS       CULTURAL                 Cultural\n",
      "12  sierra_nieves_NA_5143_52391695840__b.jpg          SPORTS   RECREATIONAL             Recreational\n",
      "13           teide_NA_847_34743975986__b.jpg          SPORTS   RECREATIONAL             Recreational\n",
      "14     guadarrama_NA_1265_16668328484__b.jpg          SPORTS   RECREATIONAL             Recreational\n",
      "15         ordesa_NA_1864_50947175287__b.jpg          SPORTS   RECREATIONAL             Recreational\n",
      "16   aiguestortes_NA_1700_16680679392__b.jpg          SPORTS   RECREATIONAL             Recreational\n",
      "17   aiguestortes_NA_2372_51475772958__b.jpg          SPORTS   RECREATIONAL             Recreational\n",
      "18   aiguestortes_NA_3018_16410769522__b.jpg          SPORTS   RECREATIONAL             Recreational\n",
      "19           snev_NA_3175_16173052383__b.jpg          SPORTS   RECREATIONAL             Recreational\n",
      "20     guadarrama_NA_3055_21010918790__b.jpg          SPORTS   RECREATIONAL             Recreational\n",
      "21   aiguestortes_NA_3319_25817607840__b.jpg          SPORTS   RECREATIONAL             Recreational\n",
      "22           snev_NA_4018_25436145167__b.jpg          SPORTS   RECREATIONAL             Recreational\n",
      "23          snev_NA_10940_22511289601__b.jpg          SPORTS   RECREATIONAL             Recreational\n",
      "24          teide_NA_1678_48402684062__b.jpg          SPORTS   RECREATIONAL             Recreational\n",
      "25           snev_NA_5470_27811153180__b.jpg          SPORTS   RECREATIONAL             Recreational\n",
      "26   aiguestortes_NA_4727_32523708771__b.jpg          SPORTS   RECREATIONAL             Recreational\n",
      "27           teide_NA_713_51711196544__b.jpg     SUN & BEACH   RECREATIONAL             Recreational\n",
      "28  sierra_nieves_NA_5536_48874066411__b.jpg     SUN & BEACH   RECREATIONAL             Recreational\n",
      "29          teide_NA_1677_39035630460__b.jpg     SUN & BEACH   RECREATIONAL             Recreational\n",
      "30          picos_NA_2594_51407638140__b.jpg     SUN & BEACH   RECREATIONAL             Recreational\n",
      "31  sierra_nieves_NA_3058_19539413211__b.jpg     SUN & BEACH   RECREATIONAL             Recreational\n",
      "32          picos_NA_2273_20675693952__b.jpg     SUN & BEACH   RECREATIONAL             Recreational\n"
     ]
    }
   ],
   "source": [
    "print(df.to_string())"
   ]
  }
 ],
 "metadata": {
  "kernelspec": {
   "display_name": "ces_310",
   "language": "python",
   "name": "python3"
  },
  "language_info": {
   "codemirror_mode": {
    "name": "ipython",
    "version": 3
   },
   "file_extension": ".py",
   "mimetype": "text/x-python",
   "name": "python",
   "nbconvert_exporter": "python",
   "pygments_lexer": "ipython3",
   "version": "3.10.16"
  }
 },
 "nbformat": 4,
 "nbformat_minor": 2
}
